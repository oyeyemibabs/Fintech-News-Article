{
 "cells": [
  {
   "cell_type": "code",
   "execution_count": 84,
   "id": "b936da94-7c9a-42e9-b0ff-ddd9e0b35164",
   "metadata": {},
   "outputs": [
    {
     "data": {
      "text/html": [
       "<div>\n",
       "<style scoped>\n",
       "    .dataframe tbody tr th:only-of-type {\n",
       "        vertical-align: middle;\n",
       "    }\n",
       "\n",
       "    .dataframe tbody tr th {\n",
       "        vertical-align: top;\n",
       "    }\n",
       "\n",
       "    .dataframe thead th {\n",
       "        text-align: right;\n",
       "    }\n",
       "</style>\n",
       "<table border=\"1\" class=\"dataframe\">\n",
       "  <thead>\n",
       "    <tr style=\"text-align: right;\">\n",
       "      <th></th>\n",
       "      <th>Title</th>\n",
       "      <th>Author</th>\n",
       "      <th>Url</th>\n",
       "    </tr>\n",
       "    <tr>\n",
       "      <th>Date</th>\n",
       "      <th></th>\n",
       "      <th></th>\n",
       "      <th></th>\n",
       "    </tr>\n",
       "  </thead>\n",
       "  <tbody>\n",
       "    <tr>\n",
       "      <th>2025-06-01</th>\n",
       "      <td>Nifty's breakout above 25,150 to pave way for ...</td>\n",
       "      <td>ET Bureau</td>\n",
       "      <td>https://economictimes.indiatimes.com/markets/s...</td>\n",
       "    </tr>\n",
       "    <tr>\n",
       "      <th>2025-06-01</th>\n",
       "      <td>US Commerce Head: Tariffs ‘Not Going Away’</td>\n",
       "      <td>PYMNTS</td>\n",
       "      <td>http://www.pymnts.com/politics/2025/us-commerc...</td>\n",
       "    </tr>\n",
       "    <tr>\n",
       "      <th>2025-06-01</th>\n",
       "      <td>The crypto industry’s ‘silent partners’, how T...</td>\n",
       "      <td>Christina Comben</td>\n",
       "      <td>https://cryptoslate.com/the-crypto-industrys-s...</td>\n",
       "    </tr>\n",
       "    <tr>\n",
       "      <th>2025-06-01</th>\n",
       "      <td>Fintechs in talks with RBI for easier provisio...</td>\n",
       "      <td>Anshika Kayastha</td>\n",
       "      <td>https://www.livemint.com/industry/banking/fint...</td>\n",
       "    </tr>\n",
       "    <tr>\n",
       "      <th>2025-06-01</th>\n",
       "      <td>Two flaws in vBulletin forum software are unde...</td>\n",
       "      <td>Pierluigi Paganini</td>\n",
       "      <td>https://securityaffairs.com/178481/security/tw...</td>\n",
       "    </tr>\n",
       "  </tbody>\n",
       "</table>\n",
       "</div>"
      ],
      "text/plain": [
       "                                                        Title  \\\n",
       "Date                                                            \n",
       "2025-06-01  Nifty's breakout above 25,150 to pave way for ...   \n",
       "2025-06-01         US Commerce Head: Tariffs ‘Not Going Away’   \n",
       "2025-06-01  The crypto industry’s ‘silent partners’, how T...   \n",
       "2025-06-01  Fintechs in talks with RBI for easier provisio...   \n",
       "2025-06-01  Two flaws in vBulletin forum software are unde...   \n",
       "\n",
       "                        Author  \\\n",
       "Date                             \n",
       "2025-06-01           ET Bureau   \n",
       "2025-06-01              PYMNTS   \n",
       "2025-06-01    Christina Comben   \n",
       "2025-06-01    Anshika Kayastha   \n",
       "2025-06-01  Pierluigi Paganini   \n",
       "\n",
       "                                                          Url  \n",
       "Date                                                           \n",
       "2025-06-01  https://economictimes.indiatimes.com/markets/s...  \n",
       "2025-06-01  http://www.pymnts.com/politics/2025/us-commerc...  \n",
       "2025-06-01  https://cryptoslate.com/the-crypto-industrys-s...  \n",
       "2025-06-01  https://www.livemint.com/industry/banking/fint...  \n",
       "2025-06-01  https://securityaffairs.com/178481/security/tw...  "
      ]
     },
     "execution_count": 84,
     "metadata": {},
     "output_type": "execute_result"
    }
   ],
   "source": [
    "import requests\n",
    "import pandas as pd\n",
    "from datetime import datetime\n",
    "\n",
    "# Add API key from the API registered\n",
    "api_key = '2eef271014d9412aa0c636d8631da7b8'\n",
    "\n",
    "# Define the parameters\n",
    "url = 'https://newsapi.org/v2/everything'\n",
    "params = {\n",
    "    'q': 'fintech',  # Keyword to search for\n",
    "    'from': '2025-05-19',  # Start date\n",
    "    'to': '2025-06-01',    # End date\n",
    "    'language': 'en',\n",
    "    'sortBy': 'publishedAt',\n",
    "    'pageSize': 50,\n",
    "    'apiKey': api_key\n",
    "}\n",
    "\n",
    "# Make the request\n",
    "response = requests.get(url, params=params)\n",
    "if response.status_code == 200:\n",
    "    articles = response.json()['articles']\n",
    "    # Extracting four column fields\n",
    "    record = [{\n",
    "        'publishedAt': article['publishedAt'],\n",
    "        'Title': article['title'],\n",
    "        'Author': article['author'], \n",
    "        'Url': article['url']\n",
    "    } for article in articles]\n",
    "    # Create DataFrame\n",
    "    news = pd.DataFrame(record)\n",
    "   # Convert 'publishedAt' to datetime\n",
    "    news['publishedAt'] = pd.to_datetime(news['publishedAt']) \n",
    "# Split into separate date and time columns\n",
    "    news['Date'] = news['publishedAt'].dt.date\n",
    "    news['Time'] = news['publishedAt'].dt.time\n",
    "    # drop column pulishedAt and time\n",
    "news = news.drop(columns=['publishedAt'])\n",
    "news = news.drop(columns=['Time'])\n",
    " # Convert 'date' to datetime\n",
    "news['Date'] = pd.to_datetime(news['Date'])\n",
    "# set date as an index \n",
    "news.set_index('Date', inplace=True)\n",
    "news.head()"
   ]
  },
  {
   "cell_type": "code",
   "execution_count": 68,
   "id": "5420b0c9-90cd-4f0d-b333-62cf97234f60",
   "metadata": {},
   "outputs": [
    {
     "name": "stdout",
     "output_type": "stream",
     "text": [
      "2025-05-30     3\n",
      "2025-05-31    19\n",
      "2025-06-01    28\n",
      "dtype: int64\n"
     ]
    },
    {
     "data": {
      "image/png": "[encoded data removed]",
      "text/plain": [
       "<Figure size 1000x500 with 1 Axes>"
      ]
     },
     "metadata": {},
     "output_type": "display_data"
    }
   ],
   "source": [
    "daily_counts = news.resample('D').size() \n",
    "#convert index to date so that the time wont be included in the xlabel\n",
    "daily_counts.index = daily_counts.index.date\n",
    "print(daily_counts) \n",
    "#plot a timeseries graph \n",
    "import matplotlib.pyplot as plt\n",
    "daily_counts.plot(kind='bar', figsize=(10, 5))\n",
    "plt.title('Daily Article Counts')\n",
    "plt.xlabel(' Date')\n",
    "plt.ylabel('Number of Articles')\n",
    "plt.show()"
   ]
  },
  {
   "cell_type": "code",
   "execution_count": null,
   "id": "d55ddd31-7f5c-4369-a9c5-504c8a99bd58",
   "metadata": {},
   "outputs": [],
   "source": []
  }
 ],
 "metadata": {
  "kernelspec": {
   "display_name": "Python 3 (ipykernel)",
   "language": "python",
   "name": "python3"
  },
  "language_info": {
   "codemirror_mode": {
    "name": "ipython",
    "version": 3
   },
   "file_extension": ".py",
   "mimetype": "text/x-python",
   "name": "python",
   "nbconvert_exporter": "python",
   "pygments_lexer": "ipython3",
   "version": "3.12.7"
  }
 },
 "nbformat": 4,
 "nbformat_minor": 5
}
